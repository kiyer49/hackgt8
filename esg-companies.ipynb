{
 "cells": [
  {
   "cell_type": "markdown",
   "id": "a8e467b5",
   "metadata": {
    "papermill": {
     "duration": 0.014499,
     "end_time": "2021-10-24T05:54:59.814270",
     "exception": false,
     "start_time": "2021-10-24T05:54:59.799771",
     "status": "completed"
    },
    "tags": []
   },
   "source": [
    "Link to Part 1: https://www.kaggle.com/kingkarth/esg-countries/edit\n",
    "\n",
    "In Part 2, we will be looking at ESG metrics, specifically applied to companies. When investing in a company, investors want to invest in something both successful, but also ecologically and socially aware of their impact, and how their work affects others. Although there is both information on economics and information on the environment, there is a distinct lack of connection between the two - something that we looked to solve with this project. In this project, we now look towards companies, and creating a machine learning algorithm, that, when given both general metrics along with their ESG score, their revenue can be predicted, allowing for much more informed and beneficial investments."
   ]
  },
  {
   "cell_type": "code",
   "execution_count": 1,
   "id": "c76f4d72",
   "metadata": {
    "_cell_guid": "b1076dfc-b9ad-4769-8c92-a6c4dae69d19",
    "_uuid": "8f2839f25d086af736a60e9eeb907d3b93b6e0e5",
    "execution": {
     "iopub.execute_input": "2021-10-24T05:54:59.845747Z",
     "iopub.status.busy": "2021-10-24T05:54:59.845014Z",
     "iopub.status.idle": "2021-10-24T05:54:59.862406Z",
     "shell.execute_reply": "2021-10-24T05:54:59.863102Z",
     "shell.execute_reply.started": "2021-10-24T05:37:27.761640Z"
    },
    "papermill": {
     "duration": 0.038187,
     "end_time": "2021-10-24T05:54:59.863590",
     "exception": false,
     "start_time": "2021-10-24T05:54:59.825403",
     "status": "completed"
    },
    "tags": []
   },
   "outputs": [
    {
     "name": "stdout",
     "output_type": "stream",
     "text": [
      "/kaggle/input/f500esg/f500esg.csv\n"
     ]
    }
   ],
   "source": [
    "# This Python 3 environment comes with many helpful analytics libraries installed\n",
    "# It is defined by the kaggle/python Docker image: https://github.com/kaggle/docker-python\n",
    "# For example, here's several helpful packages to load\n",
    "\n",
    "import numpy as np # linear algebra\n",
    "import pandas as pd # data processing, CSV file I/O (e.g. pd.read_csv)\n",
    "\n",
    "# Input data files are available in the read-only \"../input/\" directory\n",
    "# For example, running this (by clicking run or pressing Shift+Enter) will list all files under the input directory\n",
    "\n",
    "import os\n",
    "for dirname, _, filenames in os.walk('/kaggle/input'):\n",
    "    for filename in filenames:\n",
    "        print(os.path.join(dirname, filename))\n",
    "\n",
    "# You can write up to 20GB to the current directory (/kaggle/working/) that gets preserved as output when you create a version using \"Save & Run All\" \n",
    "# You can also write temporary files to /kaggle/temp/, but they won't be saved outside of the current session"
   ]
  },
  {
   "cell_type": "markdown",
   "id": "921a92e2",
   "metadata": {
    "papermill": {
     "duration": 0.011662,
     "end_time": "2021-10-24T05:54:59.887606",
     "exception": false,
     "start_time": "2021-10-24T05:54:59.875944",
     "status": "completed"
    },
    "tags": []
   },
   "source": [
    "The data for this project came from two distinct sources. First, to get the Fortune 500 data, I used this dataset (link: https://www.kaggle.com/shaz13/fotune500-2017). From here, I collected a lot of financial information for the countries, but failed to register any ESG data. For this, I used Refinitiv (link: https://www.refinitiv.com/en/financial-data/company-data/esg-data), where I used the API to request ESG scores from companies, before manually inserting them in. I did this for ~150 companies, disqualifying ones where the ESG score wasn't available."
   ]
  },
  {
   "cell_type": "code",
   "execution_count": 2,
   "id": "3b520fd9",
   "metadata": {
    "execution": {
     "iopub.execute_input": "2021-10-24T05:54:59.914732Z",
     "iopub.status.busy": "2021-10-24T05:54:59.914032Z",
     "iopub.status.idle": "2021-10-24T05:54:59.934371Z",
     "shell.execute_reply": "2021-10-24T05:54:59.933649Z",
     "shell.execute_reply.started": "2021-10-24T05:37:27.801101Z"
    },
    "papermill": {
     "duration": 0.03507,
     "end_time": "2021-10-24T05:54:59.934548",
     "exception": false,
     "start_time": "2021-10-24T05:54:59.899478",
     "status": "completed"
    },
    "tags": []
   },
   "outputs": [
    {
     "name": "stdout",
     "output_type": "stream",
     "text": [
      "Index(['Rank', 'Company Name', 'Number of Employees', 'Previous Rank',\n",
      "       'Revenues', 'Revenue Change', 'Profits', 'Profit Change', 'Assets',\n",
      "       'Market Value', 'ESG Score'],\n",
      "      dtype='object')\n"
     ]
    }
   ],
   "source": [
    "f500_path = '../input/f500esg/f500esg.csv'\n",
    "f500_data = pd.read_csv(f500_path) \n",
    "print(f500_data.columns)"
   ]
  },
  {
   "cell_type": "code",
   "execution_count": 3,
   "id": "15e70c7c",
   "metadata": {
    "execution": {
     "iopub.execute_input": "2021-10-24T05:54:59.965719Z",
     "iopub.status.busy": "2021-10-24T05:54:59.964886Z",
     "iopub.status.idle": "2021-10-24T05:54:59.983186Z",
     "shell.execute_reply": "2021-10-24T05:54:59.983738Z",
     "shell.execute_reply.started": "2021-10-24T05:37:27.823496Z"
    },
    "papermill": {
     "duration": 0.037399,
     "end_time": "2021-10-24T05:54:59.983983",
     "exception": false,
     "start_time": "2021-10-24T05:54:59.946584",
     "status": "completed"
    },
    "tags": []
   },
   "outputs": [],
   "source": [
    "f500_data = f500_data.dropna(axis=0)\n",
    "f500_data['Revenues'] = f500_data['Revenues'].apply(lambda x: x.replace(',', ''))\n",
    "f500_data['Revenues'] = f500_data['Revenues'].apply(lambda x: x.replace('$', ''))\n",
    "f500_data = f500_data[f500_data.Profits != \"-\"]\n",
    "f500_data = f500_data[f500_data.Assets != \"-\"]"
   ]
  },
  {
   "cell_type": "code",
   "execution_count": 4,
   "id": "259f5f28",
   "metadata": {
    "execution": {
     "iopub.execute_input": "2021-10-24T05:55:00.013845Z",
     "iopub.status.busy": "2021-10-24T05:55:00.013126Z",
     "iopub.status.idle": "2021-10-24T05:55:00.017033Z",
     "shell.execute_reply": "2021-10-24T05:55:00.017601Z",
     "shell.execute_reply.started": "2021-10-24T05:37:27.862654Z"
    },
    "papermill": {
     "duration": 0.020405,
     "end_time": "2021-10-24T05:55:00.017810",
     "exception": false,
     "start_time": "2021-10-24T05:54:59.997405",
     "status": "completed"
    },
    "tags": []
   },
   "outputs": [],
   "source": [
    "revenues = f500_data.Revenues"
   ]
  },
  {
   "cell_type": "code",
   "execution_count": 5,
   "id": "afdca6cf",
   "metadata": {
    "execution": {
     "iopub.execute_input": "2021-10-24T05:55:00.060306Z",
     "iopub.status.busy": "2021-10-24T05:55:00.059329Z",
     "iopub.status.idle": "2021-10-24T05:55:00.061491Z",
     "shell.execute_reply": "2021-10-24T05:55:00.062057Z",
     "shell.execute_reply.started": "2021-10-24T05:37:27.870906Z"
    },
    "papermill": {
     "duration": 0.031829,
     "end_time": "2021-10-24T05:55:00.062271",
     "exception": false,
     "start_time": "2021-10-24T05:55:00.030442",
     "status": "completed"
    },
    "tags": []
   },
   "outputs": [],
   "source": [
    "data = [f500_data[\"Number of Employees\"], f500_data[\"Profits\"], f500_data[\"Assets\"], f500_data[\"Market Value\"], f500_data[\"ESG Score\"]]\n",
    "new_features = ['num_employees', 'profits', 'assets', 'market_value', 'esg']\n",
    "\n",
    "new_x = pd.concat(data, axis=1, keys=new_features)\n",
    "\n",
    "new_x['num_employees'] = new_x['num_employees'].apply(lambda x: x.replace(',', ''))\n",
    "new_x['profits'] = new_x['profits'].apply(lambda x: x.replace(',', ''))\n",
    "new_x['profits'] = new_x['profits'].apply(lambda x: x.replace('$', ''))\n",
    "new_x['assets'] = new_x['assets'].apply(lambda x: x.replace(',', ''))\n",
    "new_x['assets'] = new_x['assets'].apply(lambda x: x.replace('$', ''))\n",
    "new_x['market_value'] = new_x['market_value'].apply(lambda x: x.replace(',', ''))\n",
    "new_x['market_value'] = new_x['market_value'].apply(lambda x: x.replace('$', ''))"
   ]
  },
  {
   "cell_type": "markdown",
   "id": "a8fa87e2",
   "metadata": {
    "papermill": {
     "duration": 0.011497,
     "end_time": "2021-10-24T05:55:00.085766",
     "exception": false,
     "start_time": "2021-10-24T05:55:00.074269",
     "status": "completed"
    },
    "tags": []
   },
   "source": [
    "I eliminated the commas and the dollar signs to ensure that all of the values could be cast to floats, making the compilation of the code easier."
   ]
  },
  {
   "cell_type": "code",
   "execution_count": 6,
   "id": "5ddeb863",
   "metadata": {
    "execution": {
     "iopub.execute_input": "2021-10-24T05:55:00.124783Z",
     "iopub.status.busy": "2021-10-24T05:55:00.124032Z",
     "iopub.status.idle": "2021-10-24T05:55:00.133724Z",
     "shell.execute_reply": "2021-10-24T05:55:00.134265Z",
     "shell.execute_reply.started": "2021-10-24T05:37:27.893741Z"
    },
    "papermill": {
     "duration": 0.036896,
     "end_time": "2021-10-24T05:55:00.134467",
     "exception": false,
     "start_time": "2021-10-24T05:55:00.097571",
     "status": "completed"
    },
    "tags": []
   },
   "outputs": [
    {
     "data": {
      "text/html": [
       "<div>\n",
       "<style scoped>\n",
       "    .dataframe tbody tr th:only-of-type {\n",
       "        vertical-align: middle;\n",
       "    }\n",
       "\n",
       "    .dataframe tbody tr th {\n",
       "        vertical-align: top;\n",
       "    }\n",
       "\n",
       "    .dataframe thead th {\n",
       "        text-align: right;\n",
       "    }\n",
       "</style>\n",
       "<table border=\"1\" class=\"dataframe\">\n",
       "  <thead>\n",
       "    <tr style=\"text-align: right;\">\n",
       "      <th></th>\n",
       "      <th>esg</th>\n",
       "    </tr>\n",
       "  </thead>\n",
       "  <tbody>\n",
       "    <tr>\n",
       "      <th>count</th>\n",
       "      <td>131.000000</td>\n",
       "    </tr>\n",
       "    <tr>\n",
       "      <th>mean</th>\n",
       "      <td>68.152672</td>\n",
       "    </tr>\n",
       "    <tr>\n",
       "      <th>std</th>\n",
       "      <td>15.825721</td>\n",
       "    </tr>\n",
       "    <tr>\n",
       "      <th>min</th>\n",
       "      <td>9.000000</td>\n",
       "    </tr>\n",
       "    <tr>\n",
       "      <th>25%</th>\n",
       "      <td>61.000000</td>\n",
       "    </tr>\n",
       "    <tr>\n",
       "      <th>50%</th>\n",
       "      <td>71.000000</td>\n",
       "    </tr>\n",
       "    <tr>\n",
       "      <th>75%</th>\n",
       "      <td>79.000000</td>\n",
       "    </tr>\n",
       "    <tr>\n",
       "      <th>max</th>\n",
       "      <td>96.000000</td>\n",
       "    </tr>\n",
       "  </tbody>\n",
       "</table>\n",
       "</div>"
      ],
      "text/plain": [
       "              esg\n",
       "count  131.000000\n",
       "mean    68.152672\n",
       "std     15.825721\n",
       "min      9.000000\n",
       "25%     61.000000\n",
       "50%     71.000000\n",
       "75%     79.000000\n",
       "max     96.000000"
      ]
     },
     "execution_count": 6,
     "metadata": {},
     "output_type": "execute_result"
    }
   ],
   "source": [
    "new_x.describe()"
   ]
  },
  {
   "cell_type": "code",
   "execution_count": 7,
   "id": "b486a8c1",
   "metadata": {
    "execution": {
     "iopub.execute_input": "2021-10-24T05:55:00.173596Z",
     "iopub.status.busy": "2021-10-24T05:55:00.172732Z",
     "iopub.status.idle": "2021-10-24T05:55:00.176968Z",
     "shell.execute_reply": "2021-10-24T05:55:00.176314Z",
     "shell.execute_reply.started": "2021-10-24T05:37:27.927582Z"
    },
    "papermill": {
     "duration": 0.029804,
     "end_time": "2021-10-24T05:55:00.177126",
     "exception": false,
     "start_time": "2021-10-24T05:55:00.147322",
     "status": "completed"
    },
    "tags": []
   },
   "outputs": [
    {
     "data": {
      "text/html": [
       "<div>\n",
       "<style scoped>\n",
       "    .dataframe tbody tr th:only-of-type {\n",
       "        vertical-align: middle;\n",
       "    }\n",
       "\n",
       "    .dataframe tbody tr th {\n",
       "        vertical-align: top;\n",
       "    }\n",
       "\n",
       "    .dataframe thead th {\n",
       "        text-align: right;\n",
       "    }\n",
       "</style>\n",
       "<table border=\"1\" class=\"dataframe\">\n",
       "  <thead>\n",
       "    <tr style=\"text-align: right;\">\n",
       "      <th></th>\n",
       "      <th>num_employees</th>\n",
       "      <th>profits</th>\n",
       "      <th>assets</th>\n",
       "      <th>market_value</th>\n",
       "      <th>esg</th>\n",
       "    </tr>\n",
       "  </thead>\n",
       "  <tbody>\n",
       "    <tr>\n",
       "      <th>0</th>\n",
       "      <td>2300000</td>\n",
       "      <td>13643.00</td>\n",
       "      <td>198825</td>\n",
       "      <td>218619</td>\n",
       "      <td>85.0</td>\n",
       "    </tr>\n",
       "    <tr>\n",
       "      <th>1</th>\n",
       "      <td>367700</td>\n",
       "      <td>24074.00</td>\n",
       "      <td>620854</td>\n",
       "      <td>411035</td>\n",
       "      <td>26.0</td>\n",
       "    </tr>\n",
       "    <tr>\n",
       "      <th>2</th>\n",
       "      <td>116000</td>\n",
       "      <td>45687.00</td>\n",
       "      <td>321686</td>\n",
       "      <td>753718</td>\n",
       "      <td>73.0</td>\n",
       "    </tr>\n",
       "    <tr>\n",
       "      <th>3</th>\n",
       "      <td>72700</td>\n",
       "      <td>7840.00</td>\n",
       "      <td>330314</td>\n",
       "      <td>340056</td>\n",
       "      <td>71.0</td>\n",
       "    </tr>\n",
       "    <tr>\n",
       "      <th>4</th>\n",
       "      <td>68000</td>\n",
       "      <td>2258.00</td>\n",
       "      <td>56563.00</td>\n",
       "      <td>31439.00</td>\n",
       "      <td>62.0</td>\n",
       "    </tr>\n",
       "  </tbody>\n",
       "</table>\n",
       "</div>"
      ],
      "text/plain": [
       "  num_employees   profits    assets market_value   esg\n",
       "0       2300000  13643.00    198825       218619  85.0\n",
       "1        367700  24074.00    620854       411035  26.0\n",
       "2        116000  45687.00    321686       753718  73.0\n",
       "3         72700   7840.00    330314       340056  71.0\n",
       "4         68000   2258.00  56563.00     31439.00  62.0"
      ]
     },
     "execution_count": 7,
     "metadata": {},
     "output_type": "execute_result"
    }
   ],
   "source": [
    "new_x.head()"
   ]
  },
  {
   "cell_type": "code",
   "execution_count": 8,
   "id": "9fdd4fe6",
   "metadata": {
    "execution": {
     "iopub.execute_input": "2021-10-24T05:55:00.210183Z",
     "iopub.status.busy": "2021-10-24T05:55:00.206129Z",
     "iopub.status.idle": "2021-10-24T05:55:01.504761Z",
     "shell.execute_reply": "2021-10-24T05:55:01.503918Z",
     "shell.execute_reply.started": "2021-10-24T05:37:27.944337Z"
    },
    "papermill": {
     "duration": 1.314823,
     "end_time": "2021-10-24T05:55:01.504929",
     "exception": false,
     "start_time": "2021-10-24T05:55:00.190106",
     "status": "completed"
    },
    "tags": []
   },
   "outputs": [
    {
     "name": "stdout",
     "output_type": "stream",
     "text": [
      "Train set: (98, 5) (98,)\n",
      "Test set: (33, 5) (33,)\n"
     ]
    },
    {
     "data": {
      "text/plain": [
       "DecisionTreeRegressor(random_state=1)"
      ]
     },
     "execution_count": 8,
     "metadata": {},
     "output_type": "execute_result"
    }
   ],
   "source": [
    "from sklearn.tree import DecisionTreeRegressor\n",
    "from sklearn.model_selection import train_test_split\n",
    "X_train, X_test, Y_train, Y_test = train_test_split(new_x, revenues, test_size=0.25,random_state=0)\n",
    "print ('Train set:', X_train.shape,  Y_train.shape)\n",
    "print ('Test set:', X_test.shape,  Y_test.shape)\n",
    "\n",
    "new_revenue_model = DecisionTreeRegressor(random_state=1)\n",
    "new_revenue_model.fit(X_train, Y_train)"
   ]
  },
  {
   "cell_type": "markdown",
   "id": "f0885d8a",
   "metadata": {
    "papermill": {
     "duration": 0.013086,
     "end_time": "2021-10-24T05:55:01.532099",
     "exception": false,
     "start_time": "2021-10-24T05:55:01.519013",
     "status": "completed"
    },
    "tags": []
   },
   "source": [
    "This is where I created my Linear Regression model. For this, I used the DecisionTreeRegressor from the sklearn library. I split my data into train/test with a 75/25 split, and from that, created a DecisionTreeRegressor trained on the training data which the model created. This included 98 unique companies."
   ]
  },
  {
   "cell_type": "code",
   "execution_count": 9,
   "id": "16214e59",
   "metadata": {
    "execution": {
     "iopub.execute_input": "2021-10-24T05:55:01.563045Z",
     "iopub.status.busy": "2021-10-24T05:55:01.562392Z",
     "iopub.status.idle": "2021-10-24T05:55:01.572891Z",
     "shell.execute_reply": "2021-10-24T05:55:01.573544Z",
     "shell.execute_reply.started": "2021-10-24T05:37:29.239650Z"
    },
    "papermill": {
     "duration": 0.028124,
     "end_time": "2021-10-24T05:55:01.573754",
     "exception": false,
     "start_time": "2021-10-24T05:55:01.545630",
     "status": "completed"
    },
    "tags": []
   },
   "outputs": [
    {
     "name": "stdout",
     "output_type": "stream",
     "text": [
      "$223,604,000.00\n",
      "$49,247,000.00\n",
      "$29,003,000.00\n",
      "$70,166,000.00\n",
      "$21,987,000.00\n",
      "$184,840,000.00\n",
      "$41,863,000.00\n",
      "$71,726,000.00\n",
      "$36,556,000.00\n",
      "$49,247,000.00\n",
      "$39,302,000.00\n",
      "$184,840,000.00\n",
      "$115,337,000.00\n",
      "$48,158,000.00\n",
      "$21,987,000.00\n",
      "$60,906,000.00\n",
      "$19,037,000.00\n",
      "$23,825,000.00\n",
      "$205,004,000.00\n",
      "$23,441,000.00\n",
      "$39,302,000.00\n",
      "$19,941,000.00\n",
      "$223,604,000.00\n",
      "$27,519,000.00\n",
      "$38,537,000.00\n",
      "$24,508,000.00\n",
      "$39,668,000.00\n",
      "$39,639,000.00\n",
      "$37,949,000.00\n",
      "$65,017,000.00\n",
      "$19,941,000.00\n",
      "$21,609,000.00\n",
      "$79,919,000.00\n"
     ]
    }
   ],
   "source": [
    "vals = new_revenue_model.predict(X_test)*1000 # Scaled to account for deflation of numbers in original data set\n",
    "for val in vals:\n",
    "    print(\"${:,.2f}\".format(val))"
   ]
  },
  {
   "cell_type": "markdown",
   "id": "4b53f3d7",
   "metadata": {
    "papermill": {
     "duration": 0.013511,
     "end_time": "2021-10-24T05:55:01.601135",
     "exception": false,
     "start_time": "2021-10-24T05:55:01.587624",
     "status": "completed"
    },
    "tags": []
   },
   "source": [
    "Finally, the results of my work. I have attached the predicted revenues of 33 unique companies here, which have a relatively high level of accuracy, based on the fact that there was a correlation between ESG score and revenue. Although there were some outliers, I believe that my model allows for investors to predict whether companies will be worth their while, especially given the importance of ESG in today's world.\n",
    "\n",
    "I hope you enjoyed looking at my work - it was a fun project to tackle!"
   ]
  }
 ],
 "metadata": {
  "kernelspec": {
   "display_name": "Python 3",
   "language": "python",
   "name": "python3"
  },
  "language_info": {
   "codemirror_mode": {
    "name": "ipython",
    "version": 3
   },
   "file_extension": ".py",
   "mimetype": "text/x-python",
   "name": "python",
   "nbconvert_exporter": "python",
   "pygments_lexer": "ipython3",
   "version": "3.7.10"
  },
  "papermill": {
   "default_parameters": {},
   "duration": 12.930289,
   "end_time": "2021-10-24T05:55:02.426948",
   "environment_variables": {},
   "exception": null,
   "input_path": "__notebook__.ipynb",
   "output_path": "__notebook__.ipynb",
   "parameters": {},
   "start_time": "2021-10-24T05:54:49.496659",
   "version": "2.3.3"
  }
 },
 "nbformat": 4,
 "nbformat_minor": 5
}
